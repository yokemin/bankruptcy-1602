{
 "cells": [
  {
   "cell_type": "markdown",
   "metadata": {},
   "source": [
    "## Week 6 Python Exercises\n",
    "### Bankruptcy Data"
   ]
  },
  {
   "cell_type": "code",
   "execution_count": 1,
   "metadata": {},
   "outputs": [],
   "source": [
    "import pandas as pd"
   ]
  },
  {
   "cell_type": "code",
   "execution_count": 2,
   "metadata": {},
   "outputs": [],
   "source": [
    "df = pd.read_csv(\"bankruptcy (balance).csv\")"
   ]
  },
  {
   "cell_type": "code",
   "execution_count": 3,
   "metadata": {
    "scrolled": true
   },
   "outputs": [
    {
     "data": {
      "text/html": [
       "<div>\n",
       "<style scoped>\n",
       "    .dataframe tbody tr th:only-of-type {\n",
       "        vertical-align: middle;\n",
       "    }\n",
       "\n",
       "    .dataframe tbody tr th {\n",
       "        vertical-align: top;\n",
       "    }\n",
       "\n",
       "    .dataframe thead th {\n",
       "        text-align: right;\n",
       "    }\n",
       "</style>\n",
       "<table border=\"1\" class=\"dataframe\">\n",
       "  <thead>\n",
       "    <tr style=\"text-align: right;\">\n",
       "      <th></th>\n",
       "      <th>Attr1</th>\n",
       "      <th>Attr2</th>\n",
       "      <th>Attr3</th>\n",
       "      <th>Attr4</th>\n",
       "      <th>Attr5</th>\n",
       "      <th>Attr6</th>\n",
       "      <th>Attr7</th>\n",
       "      <th>Attr8</th>\n",
       "      <th>Attr9</th>\n",
       "      <th>Attr10</th>\n",
       "      <th>...</th>\n",
       "      <th>Attr56</th>\n",
       "      <th>Attr57</th>\n",
       "      <th>Attr58</th>\n",
       "      <th>Attr59</th>\n",
       "      <th>Attr60</th>\n",
       "      <th>Attr61</th>\n",
       "      <th>Attr62</th>\n",
       "      <th>Attr63</th>\n",
       "      <th>Attr64</th>\n",
       "      <th>class</th>\n",
       "    </tr>\n",
       "  </thead>\n",
       "  <tbody>\n",
       "    <tr>\n",
       "      <th>0</th>\n",
       "      <td>-0.031545</td>\n",
       "      <td>-0.091313</td>\n",
       "      <td>-0.040269</td>\n",
       "      <td>-0.013529</td>\n",
       "      <td>0.007406</td>\n",
       "      <td>-0.016047</td>\n",
       "      <td>-0.000264</td>\n",
       "      <td>0.641242</td>\n",
       "      <td>-0.748385</td>\n",
       "      <td>0.126789</td>\n",
       "      <td>...</td>\n",
       "      <td>0.014367</td>\n",
       "      <td>0.005457</td>\n",
       "      <td>-0.014143</td>\n",
       "      <td>-0.020924</td>\n",
       "      <td>0.068399</td>\n",
       "      <td>-0.214478</td>\n",
       "      <td>-0.013915</td>\n",
       "      <td>-0.173939</td>\n",
       "      <td>-0.046788</td>\n",
       "      <td>0</td>\n",
       "    </tr>\n",
       "    <tr>\n",
       "      <th>1</th>\n",
       "      <td>-0.231729</td>\n",
       "      <td>-0.049448</td>\n",
       "      <td>0.304381</td>\n",
       "      <td>-0.080975</td>\n",
       "      <td>0.007515</td>\n",
       "      <td>-0.016047</td>\n",
       "      <td>-0.034963</td>\n",
       "      <td>0.074710</td>\n",
       "      <td>0.469815</td>\n",
       "      <td>0.073759</td>\n",
       "      <td>...</td>\n",
       "      <td>0.008492</td>\n",
       "      <td>-0.008385</td>\n",
       "      <td>-0.008666</td>\n",
       "      <td>-0.023095</td>\n",
       "      <td>-0.033498</td>\n",
       "      <td>-0.205796</td>\n",
       "      <td>-0.015174</td>\n",
       "      <td>-0.073056</td>\n",
       "      <td>-0.027236</td>\n",
       "      <td>0</td>\n",
       "    </tr>\n",
       "    <tr>\n",
       "      <th>2</th>\n",
       "      <td>-0.058602</td>\n",
       "      <td>0.065060</td>\n",
       "      <td>-0.488404</td>\n",
       "      <td>-0.189489</td>\n",
       "      <td>0.006572</td>\n",
       "      <td>-0.016047</td>\n",
       "      <td>-0.004954</td>\n",
       "      <td>-0.456287</td>\n",
       "      <td>0.270351</td>\n",
       "      <td>-0.071287</td>\n",
       "      <td>...</td>\n",
       "      <td>0.010819</td>\n",
       "      <td>0.006779</td>\n",
       "      <td>-0.009437</td>\n",
       "      <td>-0.007919</td>\n",
       "      <td>-0.043455</td>\n",
       "      <td>0.019740</td>\n",
       "      <td>-0.011736</td>\n",
       "      <td>-0.291624</td>\n",
       "      <td>-0.033580</td>\n",
       "      <td>0</td>\n",
       "    </tr>\n",
       "    <tr>\n",
       "      <th>3</th>\n",
       "      <td>-0.069376</td>\n",
       "      <td>0.044641</td>\n",
       "      <td>-0.181684</td>\n",
       "      <td>-0.140032</td>\n",
       "      <td>0.007477</td>\n",
       "      <td>-0.010915</td>\n",
       "      <td>-0.005599</td>\n",
       "      <td>-0.462971</td>\n",
       "      <td>-0.286746</td>\n",
       "      <td>-0.085266</td>\n",
       "      <td>...</td>\n",
       "      <td>0.010683</td>\n",
       "      <td>0.005384</td>\n",
       "      <td>-0.010840</td>\n",
       "      <td>0.001381</td>\n",
       "      <td>-0.042828</td>\n",
       "      <td>-0.350519</td>\n",
       "      <td>0.002969</td>\n",
       "      <td>-0.554685</td>\n",
       "      <td>-0.046823</td>\n",
       "      <td>0</td>\n",
       "    </tr>\n",
       "    <tr>\n",
       "      <th>4</th>\n",
       "      <td>0.236424</td>\n",
       "      <td>-0.051912</td>\n",
       "      <td>0.678337</td>\n",
       "      <td>-0.014680</td>\n",
       "      <td>0.007879</td>\n",
       "      <td>-0.016047</td>\n",
       "      <td>0.057418</td>\n",
       "      <td>0.097183</td>\n",
       "      <td>0.423405</td>\n",
       "      <td>0.076880</td>\n",
       "      <td>...</td>\n",
       "      <td>0.010970</td>\n",
       "      <td>0.025295</td>\n",
       "      <td>-0.011056</td>\n",
       "      <td>-0.022535</td>\n",
       "      <td>-0.035892</td>\n",
       "      <td>-0.181557</td>\n",
       "      <td>-0.015623</td>\n",
       "      <td>-0.027841</td>\n",
       "      <td>-0.023694</td>\n",
       "      <td>0</td>\n",
       "    </tr>\n",
       "    <tr>\n",
       "      <th>...</th>\n",
       "      <td>...</td>\n",
       "      <td>...</td>\n",
       "      <td>...</td>\n",
       "      <td>...</td>\n",
       "      <td>...</td>\n",
       "      <td>...</td>\n",
       "      <td>...</td>\n",
       "      <td>...</td>\n",
       "      <td>...</td>\n",
       "      <td>...</td>\n",
       "      <td>...</td>\n",
       "      <td>...</td>\n",
       "      <td>...</td>\n",
       "      <td>...</td>\n",
       "      <td>...</td>\n",
       "      <td>...</td>\n",
       "      <td>...</td>\n",
       "      <td>...</td>\n",
       "      <td>...</td>\n",
       "      <td>...</td>\n",
       "      <td>...</td>\n",
       "    </tr>\n",
       "    <tr>\n",
       "      <th>19589</th>\n",
       "      <td>-0.232279</td>\n",
       "      <td>0.068074</td>\n",
       "      <td>-0.705143</td>\n",
       "      <td>-0.222192</td>\n",
       "      <td>0.005776</td>\n",
       "      <td>-0.013017</td>\n",
       "      <td>-0.035058</td>\n",
       "      <td>-0.463284</td>\n",
       "      <td>-0.779185</td>\n",
       "      <td>-0.075118</td>\n",
       "      <td>...</td>\n",
       "      <td>0.007946</td>\n",
       "      <td>-0.022552</td>\n",
       "      <td>-0.007375</td>\n",
       "      <td>-0.001835</td>\n",
       "      <td>-0.036114</td>\n",
       "      <td>-0.153297</td>\n",
       "      <td>0.001160</td>\n",
       "      <td>-0.536996</td>\n",
       "      <td>-0.046648</td>\n",
       "      <td>1</td>\n",
       "    </tr>\n",
       "    <tr>\n",
       "      <th>19590</th>\n",
       "      <td>-0.096004</td>\n",
       "      <td>-0.058023</td>\n",
       "      <td>-0.445118</td>\n",
       "      <td>-0.175664</td>\n",
       "      <td>0.006880</td>\n",
       "      <td>-0.016047</td>\n",
       "      <td>-0.010788</td>\n",
       "      <td>0.161364</td>\n",
       "      <td>-0.535410</td>\n",
       "      <td>0.084622</td>\n",
       "      <td>...</td>\n",
       "      <td>0.007875</td>\n",
       "      <td>0.001631</td>\n",
       "      <td>-0.009404</td>\n",
       "      <td>-0.022381</td>\n",
       "      <td>-0.042134</td>\n",
       "      <td>0.005324</td>\n",
       "      <td>-0.012069</td>\n",
       "      <td>-0.266326</td>\n",
       "      <td>-0.045288</td>\n",
       "      <td>1</td>\n",
       "    </tr>\n",
       "    <tr>\n",
       "      <th>19591</th>\n",
       "      <td>-0.091435</td>\n",
       "      <td>-0.052463</td>\n",
       "      <td>-0.204797</td>\n",
       "      <td>-0.133794</td>\n",
       "      <td>0.006687</td>\n",
       "      <td>-0.016047</td>\n",
       "      <td>-0.010141</td>\n",
       "      <td>0.110549</td>\n",
       "      <td>-0.676749</td>\n",
       "      <td>0.077578</td>\n",
       "      <td>...</td>\n",
       "      <td>0.011158</td>\n",
       "      <td>0.001778</td>\n",
       "      <td>-0.010486</td>\n",
       "      <td>-0.022598</td>\n",
       "      <td>-0.043899</td>\n",
       "      <td>-0.241970</td>\n",
       "      <td>-0.006677</td>\n",
       "      <td>-0.428432</td>\n",
       "      <td>-0.045488</td>\n",
       "      <td>1</td>\n",
       "    </tr>\n",
       "    <tr>\n",
       "      <th>19592</th>\n",
       "      <td>-0.676310</td>\n",
       "      <td>0.245391</td>\n",
       "      <td>-3.155124</td>\n",
       "      <td>-0.304241</td>\n",
       "      <td>-0.001384</td>\n",
       "      <td>-0.037922</td>\n",
       "      <td>-0.105756</td>\n",
       "      <td>-0.701694</td>\n",
       "      <td>-0.865427</td>\n",
       "      <td>-0.299722</td>\n",
       "      <td>...</td>\n",
       "      <td>0.010425</td>\n",
       "      <td>0.086569</td>\n",
       "      <td>-0.005220</td>\n",
       "      <td>-0.023947</td>\n",
       "      <td>-0.047152</td>\n",
       "      <td>-0.191137</td>\n",
       "      <td>0.072719</td>\n",
       "      <td>-0.691843</td>\n",
       "      <td>-0.046129</td>\n",
       "      <td>1</td>\n",
       "    </tr>\n",
       "    <tr>\n",
       "      <th>19593</th>\n",
       "      <td>-0.704013</td>\n",
       "      <td>0.098177</td>\n",
       "      <td>-1.208785</td>\n",
       "      <td>-0.246893</td>\n",
       "      <td>0.005521</td>\n",
       "      <td>-0.016047</td>\n",
       "      <td>-0.122524</td>\n",
       "      <td>-0.521067</td>\n",
       "      <td>-0.532024</td>\n",
       "      <td>-0.113239</td>\n",
       "      <td>...</td>\n",
       "      <td>0.008168</td>\n",
       "      <td>-0.161565</td>\n",
       "      <td>-0.002684</td>\n",
       "      <td>-0.003830</td>\n",
       "      <td>-0.043985</td>\n",
       "      <td>-0.218351</td>\n",
       "      <td>0.005721</td>\n",
       "      <td>-0.573185</td>\n",
       "      <td>-0.042997</td>\n",
       "      <td>1</td>\n",
       "    </tr>\n",
       "  </tbody>\n",
       "</table>\n",
       "<p>19594 rows × 65 columns</p>\n",
       "</div>"
      ],
      "text/plain": [
       "          Attr1     Attr2     Attr3     Attr4     Attr5     Attr6     Attr7  \\\n",
       "0     -0.031545 -0.091313 -0.040269 -0.013529  0.007406 -0.016047 -0.000264   \n",
       "1     -0.231729 -0.049448  0.304381 -0.080975  0.007515 -0.016047 -0.034963   \n",
       "2     -0.058602  0.065060 -0.488404 -0.189489  0.006572 -0.016047 -0.004954   \n",
       "3     -0.069376  0.044641 -0.181684 -0.140032  0.007477 -0.010915 -0.005599   \n",
       "4      0.236424 -0.051912  0.678337 -0.014680  0.007879 -0.016047  0.057418   \n",
       "...         ...       ...       ...       ...       ...       ...       ...   \n",
       "19589 -0.232279  0.068074 -0.705143 -0.222192  0.005776 -0.013017 -0.035058   \n",
       "19590 -0.096004 -0.058023 -0.445118 -0.175664  0.006880 -0.016047 -0.010788   \n",
       "19591 -0.091435 -0.052463 -0.204797 -0.133794  0.006687 -0.016047 -0.010141   \n",
       "19592 -0.676310  0.245391 -3.155124 -0.304241 -0.001384 -0.037922 -0.105756   \n",
       "19593 -0.704013  0.098177 -1.208785 -0.246893  0.005521 -0.016047 -0.122524   \n",
       "\n",
       "          Attr8     Attr9    Attr10  ...    Attr56    Attr57    Attr58  \\\n",
       "0      0.641242 -0.748385  0.126789  ...  0.014367  0.005457 -0.014143   \n",
       "1      0.074710  0.469815  0.073759  ...  0.008492 -0.008385 -0.008666   \n",
       "2     -0.456287  0.270351 -0.071287  ...  0.010819  0.006779 -0.009437   \n",
       "3     -0.462971 -0.286746 -0.085266  ...  0.010683  0.005384 -0.010840   \n",
       "4      0.097183  0.423405  0.076880  ...  0.010970  0.025295 -0.011056   \n",
       "...         ...       ...       ...  ...       ...       ...       ...   \n",
       "19589 -0.463284 -0.779185 -0.075118  ...  0.007946 -0.022552 -0.007375   \n",
       "19590  0.161364 -0.535410  0.084622  ...  0.007875  0.001631 -0.009404   \n",
       "19591  0.110549 -0.676749  0.077578  ...  0.011158  0.001778 -0.010486   \n",
       "19592 -0.701694 -0.865427 -0.299722  ...  0.010425  0.086569 -0.005220   \n",
       "19593 -0.521067 -0.532024 -0.113239  ...  0.008168 -0.161565 -0.002684   \n",
       "\n",
       "         Attr59    Attr60    Attr61    Attr62    Attr63    Attr64  class  \n",
       "0     -0.020924  0.068399 -0.214478 -0.013915 -0.173939 -0.046788      0  \n",
       "1     -0.023095 -0.033498 -0.205796 -0.015174 -0.073056 -0.027236      0  \n",
       "2     -0.007919 -0.043455  0.019740 -0.011736 -0.291624 -0.033580      0  \n",
       "3      0.001381 -0.042828 -0.350519  0.002969 -0.554685 -0.046823      0  \n",
       "4     -0.022535 -0.035892 -0.181557 -0.015623 -0.027841 -0.023694      0  \n",
       "...         ...       ...       ...       ...       ...       ...    ...  \n",
       "19589 -0.001835 -0.036114 -0.153297  0.001160 -0.536996 -0.046648      1  \n",
       "19590 -0.022381 -0.042134  0.005324 -0.012069 -0.266326 -0.045288      1  \n",
       "19591 -0.022598 -0.043899 -0.241970 -0.006677 -0.428432 -0.045488      1  \n",
       "19592 -0.023947 -0.047152 -0.191137  0.072719 -0.691843 -0.046129      1  \n",
       "19593 -0.003830 -0.043985 -0.218351  0.005721 -0.573185 -0.042997      1  \n",
       "\n",
       "[19594 rows x 65 columns]"
      ]
     },
     "execution_count": 3,
     "metadata": {},
     "output_type": "execute_result"
    }
   ],
   "source": [
    "df"
   ]
  },
  {
   "cell_type": "code",
   "execution_count": 4,
   "metadata": {},
   "outputs": [
    {
     "name": "stdout",
     "output_type": "stream",
     "text": [
      "          Attr1     Attr2     Attr3\n",
      "0     -0.031545 -0.091313 -0.040269\n",
      "1     -0.231729 -0.049448  0.304381\n",
      "2     -0.058602  0.065060 -0.488404\n",
      "3     -0.069376  0.044641 -0.181684\n",
      "4      0.236424 -0.051912  0.678337\n",
      "...         ...       ...       ...\n",
      "19589 -0.232279  0.068074 -0.705143\n",
      "19590 -0.096004 -0.058023 -0.445118\n",
      "19591 -0.091435 -0.052463 -0.204797\n",
      "19592 -0.676310  0.245391 -3.155124\n",
      "19593 -0.704013  0.098177 -1.208785\n",
      "\n",
      "[19594 rows x 3 columns]\n"
     ]
    }
   ],
   "source": [
    "# Split X and Y\n",
    "X = df.loc[:, [\"Attr1\", \"Attr2\", \"Attr3\"]]\n",
    "print(X)"
   ]
  },
  {
   "cell_type": "code",
   "execution_count": 5,
   "metadata": {},
   "outputs": [
    {
     "name": "stdout",
     "output_type": "stream",
     "text": [
      "       class\n",
      "0          0\n",
      "1          0\n",
      "2          0\n",
      "3          0\n",
      "4          0\n",
      "...      ...\n",
      "19589      1\n",
      "19590      1\n",
      "19591      1\n",
      "19592      1\n",
      "19593      1\n",
      "\n",
      "[19594 rows x 1 columns]\n"
     ]
    }
   ],
   "source": [
    "Y = df.loc[:, [\"class\"]]\n",
    "print(Y)"
   ]
  },
  {
   "cell_type": "code",
   "execution_count": 6,
   "metadata": {},
   "outputs": [],
   "source": [
    "# Split train test\n",
    "from sklearn.model_selection import train_test_split\n",
    "X_train, X_test, Y_train, Y_test = train_test_split(X, Y)"
   ]
  },
  {
   "cell_type": "code",
   "execution_count": 7,
   "metadata": {},
   "outputs": [
    {
     "name": "stdout",
     "output_type": "stream",
     "text": [
      "          Attr1     Attr2     Attr3\n",
      "10088 -0.314440  0.007260 -1.196368\n",
      "9767   0.107418 -0.097352  0.979125\n",
      "7481   0.228507 -0.085492  1.722068\n",
      "18232 -0.086208 -0.039186  0.534928\n",
      "16018 -0.045761  0.085803 -1.216632\n",
      "...         ...       ...       ...\n",
      "18195  0.028909  0.073049 -0.179143\n",
      "15298 -0.075064  0.030879 -0.907717\n",
      "2062   0.233701  0.004089  0.429408\n",
      "10299 -0.014443  0.094957 -0.483738\n",
      "1268   0.218089  0.016598  0.068378\n",
      "\n",
      "[14695 rows x 3 columns]           Attr1     Attr2     Attr3\n",
      "13018 -0.077371  0.090960  0.774619\n",
      "16278  0.035091  0.072614 -0.147263\n",
      "131    0.176288  0.043666 -1.758084\n",
      "8914   0.016017  0.037157 -0.351591\n",
      "299    0.288721 -0.084390  0.173221\n",
      "...         ...       ...       ...\n",
      "8180  -0.079319  0.035199 -0.572424\n",
      "9042   0.156553 -0.047381 -0.176145\n",
      "13024 -0.341283  0.129953 -1.565957\n",
      "2998   0.045700  0.076174 -0.168308\n",
      "5033  -0.084826  0.112831 -1.577976\n",
      "\n",
      "[4899 rows x 3 columns]        class\n",
      "10088      1\n",
      "9767       0\n",
      "7481       0\n",
      "18232      1\n",
      "16018      1\n",
      "...      ...\n",
      "18195      1\n",
      "15298      1\n",
      "2062       0\n",
      "10299      1\n",
      "1268       0\n",
      "\n",
      "[14695 rows x 1 columns]        class\n",
      "13018      1\n",
      "16278      1\n",
      "131        0\n",
      "8914       0\n",
      "299        0\n",
      "...      ...\n",
      "8180       0\n",
      "9042       0\n",
      "13024      1\n",
      "2998       0\n",
      "5033       0\n",
      "\n",
      "[4899 rows x 1 columns]\n"
     ]
    }
   ],
   "source": [
    "print(X_train, X_test, Y_train, Y_test)"
   ]
  },
  {
   "cell_type": "code",
   "execution_count": 8,
   "metadata": {},
   "outputs": [],
   "source": [
    "import keras\n",
    "from keras.models import Sequential"
   ]
  },
  {
   "cell_type": "code",
   "execution_count": 9,
   "metadata": {},
   "outputs": [],
   "source": [
    "from keras.layers import Dense, Dropout"
   ]
  },
  {
   "cell_type": "code",
   "execution_count": 10,
   "metadata": {},
   "outputs": [],
   "source": [
    "model = Sequential()"
   ]
  },
  {
   "cell_type": "code",
   "execution_count": 11,
   "metadata": {},
   "outputs": [],
   "source": [
    "model.add(Dense(6, input_dim=3, activation=\"relu\"))"
   ]
  },
  {
   "cell_type": "code",
   "execution_count": 12,
   "metadata": {},
   "outputs": [],
   "source": [
    "model.add(Dropout(0.2))"
   ]
  },
  {
   "cell_type": "code",
   "execution_count": 13,
   "metadata": {},
   "outputs": [],
   "source": [
    "model.add(Dense(4, activation=\"relu\"))"
   ]
  },
  {
   "cell_type": "code",
   "execution_count": 14,
   "metadata": {},
   "outputs": [],
   "source": [
    "model.add(Dropout(0.2))"
   ]
  },
  {
   "cell_type": "code",
   "execution_count": 15,
   "metadata": {},
   "outputs": [],
   "source": [
    "model.add(Dense(1, activation=\"sigmoid\"))"
   ]
  },
  {
   "cell_type": "code",
   "execution_count": 16,
   "metadata": {},
   "outputs": [
    {
     "name": "stdout",
     "output_type": "stream",
     "text": [
      "Model: \"sequential\"\n",
      "_________________________________________________________________\n",
      " Layer (type)                Output Shape              Param #   \n",
      "=================================================================\n",
      " dense (Dense)               (None, 6)                 24        \n",
      "                                                                 \n",
      " dropout (Dropout)           (None, 6)                 0         \n",
      "                                                                 \n",
      " dense_1 (Dense)             (None, 4)                 28        \n",
      "                                                                 \n",
      " dropout_1 (Dropout)         (None, 4)                 0         \n",
      "                                                                 \n",
      " dense_2 (Dense)             (None, 1)                 5         \n",
      "                                                                 \n",
      "=================================================================\n",
      "Total params: 57\n",
      "Trainable params: 57\n",
      "Non-trainable params: 0\n",
      "_________________________________________________________________\n"
     ]
    }
   ],
   "source": [
    "model.summary()"
   ]
  },
  {
   "cell_type": "code",
   "execution_count": 17,
   "metadata": {},
   "outputs": [],
   "source": [
    "model.compile(loss=\"binary_crossentropy\", metrics=[\"accuracy\"])"
   ]
  },
  {
   "cell_type": "code",
   "execution_count": 18,
   "metadata": {},
   "outputs": [
    {
     "name": "stdout",
     "output_type": "stream",
     "text": [
      "Epoch 1/10\n",
      "1470/1470 [==============================] - 4s 2ms/step - loss: 0.6576 - accuracy: 0.6287\n",
      "Epoch 2/10\n",
      "1470/1470 [==============================] - 4s 2ms/step - loss: 0.6111 - accuracy: 0.6847\n",
      "Epoch 3/10\n",
      "1470/1470 [==============================] - 4s 3ms/step - loss: 0.5966 - accuracy: 0.6911\n",
      "Epoch 4/10\n",
      "1470/1470 [==============================] - 3s 2ms/step - loss: 0.5905 - accuracy: 0.6930\n",
      "Epoch 5/10\n",
      "1470/1470 [==============================] - 4s 3ms/step - loss: 0.5886 - accuracy: 0.6884\n",
      "Epoch 6/10\n",
      "1470/1470 [==============================] - 3s 2ms/step - loss: 0.5892 - accuracy: 0.6904\n",
      "Epoch 7/10\n",
      "1470/1470 [==============================] - 3s 2ms/step - loss: 0.5856 - accuracy: 0.6901\n",
      "Epoch 8/10\n",
      "1470/1470 [==============================] - 3s 2ms/step - loss: 0.5845 - accuracy: 0.6936\n",
      "Epoch 9/10\n",
      "1470/1470 [==============================] - 3s 2ms/step - loss: 0.5831 - accuracy: 0.6947\n",
      "Epoch 10/10\n",
      "1470/1470 [==============================] - 2s 2ms/step - loss: 0.5838 - accuracy: 0.6957\n"
     ]
    },
    {
     "data": {
      "text/plain": [
       "<keras.callbacks.History at 0x27cbabb6f88>"
      ]
     },
     "execution_count": 18,
     "metadata": {},
     "output_type": "execute_result"
    }
   ],
   "source": [
    "model.fit(X_train, Y_train, batch_size=10, epochs=10)"
   ]
  },
  {
   "cell_type": "code",
   "execution_count": 19,
   "metadata": {},
   "outputs": [
    {
     "name": "stdout",
     "output_type": "stream",
     "text": [
      "154/154 [==============================] - 0s 1ms/step - loss: 0.5635 - accuracy: 0.6973\n"
     ]
    },
    {
     "data": {
      "text/plain": [
       "[0.5634781122207642, 0.6972851753234863]"
      ]
     },
     "execution_count": 19,
     "metadata": {},
     "output_type": "execute_result"
    }
   ],
   "source": [
    "model.evaluate(X_test, Y_test)"
   ]
  },
  {
   "cell_type": "code",
   "execution_count": 20,
   "metadata": {},
   "outputs": [
    {
     "name": "stdout",
     "output_type": "stream",
     "text": [
      "INFO:tensorflow:Assets written to: bankruptcy_model\\assets\n"
     ]
    }
   ],
   "source": [
    "model.save(\"bankruptcy_model\")"
   ]
  },
  {
   "cell_type": "code",
   "execution_count": null,
   "metadata": {},
   "outputs": [],
   "source": []
  },
  {
   "cell_type": "code",
   "execution_count": 21,
   "metadata": {},
   "outputs": [],
   "source": [
    "# Check if model works\n",
    "from keras.models import load_model"
   ]
  },
  {
   "cell_type": "code",
   "execution_count": 22,
   "metadata": {},
   "outputs": [],
   "source": [
    "model = load_model(\"bankruptcy_model\")"
   ]
  },
  {
   "cell_type": "code",
   "execution_count": 23,
   "metadata": {},
   "outputs": [
    {
     "name": "stdout",
     "output_type": "stream",
     "text": [
      "[[0.01663423]]\n"
     ]
    }
   ],
   "source": [
    "print(model.predict([[0.8,0.1,0.1]]))"
   ]
  },
  {
   "cell_type": "code",
   "execution_count": null,
   "metadata": {},
   "outputs": [],
   "source": []
  }
 ],
 "metadata": {
  "kernelspec": {
   "display_name": "Python 3",
   "language": "python",
   "name": "python3"
  },
  "language_info": {
   "codemirror_mode": {
    "name": "ipython",
    "version": 3
   },
   "file_extension": ".py",
   "mimetype": "text/x-python",
   "name": "python",
   "nbconvert_exporter": "python",
   "pygments_lexer": "ipython3",
   "version": "3.7.6"
  }
 },
 "nbformat": 4,
 "nbformat_minor": 4
}
